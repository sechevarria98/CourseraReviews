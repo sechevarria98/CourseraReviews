{
  "nbformat": 4,
  "nbformat_minor": 0,
  "metadata": {
    "colab": {
      "name": "Project.ipynb",
      "provenance": [],
      "collapsed_sections": []
    },
    "kernelspec": {
      "name": "python3",
      "display_name": "Python 3"
    },
    "language_info": {
      "name": "python"
    }
  },
  "cells": [
    {
      "cell_type": "markdown",
      "metadata": {
        "id": "l1U_ZaQ1v3_S"
      },
      "source": [
        "# **Project Imports**\n",
        "\n",
        "\n",
        "\n"
      ]
    },
    {
      "cell_type": "code",
      "metadata": {
        "id": "k8selqN5I2BI",
        "colab": {
          "base_uri": "https://localhost:8080/"
        },
        "outputId": "f7c6b9c4-71e1-4360-b346-dc2618aa28b5"
      },
      "source": [
        "import nltk\n",
        "from nltk.tokenize import word_tokenize\n",
        "from nltk.corpus import stopwords\n",
        "from nltk.stem import PorterStemmer\n",
        "\n",
        "import re\n",
        "import string\n",
        "import pandas as pd\n",
        "import numpy as np\n",
        "import matplotlib.pyplot as plt\n",
        "\n",
        "from imblearn.under_sampling import RandomUnderSampler\n",
        "from collections import Counter\n",
        "from tqdm import tqdm\n",
        "from bs4 import BeautifulSoup\n",
        "\n",
        "from sklearn.model_selection import train_test_split\n",
        "from sklearn.model_selection import cross_val_score\n",
        "from sklearn.model_selection import GridSearchCV\n",
        "from sklearn.pipeline import Pipeline\n",
        "from sklearn.linear_model import LogisticRegression\n",
        "from sklearn.metrics import classification_report, confusion_matrix\n",
        "from sklearn.metrics import precision_recall_curve\n",
        "from sklearn.metrics import average_precision_score\n",
        "from sklearn.metrics import roc_curve, auc\n",
        "from sklearn.feature_extraction.text import TfidfVectorizer\n",
        "from sklearn.feature_extraction.text import CountVectorizer\n",
        "\n",
        "import warnings\n",
        "warnings.simplefilter(action='ignore', category=FutureWarning)\n",
        "\n",
        "nltk.download('punkt')\n",
        "nltk.download('stopwords')"
      ],
      "execution_count": null,
      "outputs": [
        {
          "output_type": "stream",
          "text": [
            "[nltk_data] Downloading package punkt to /root/nltk_data...\n",
            "[nltk_data]   Package punkt is already up-to-date!\n",
            "[nltk_data] Downloading package stopwords to /root/nltk_data...\n",
            "[nltk_data]   Package stopwords is already up-to-date!\n"
          ],
          "name": "stdout"
        },
        {
          "output_type": "execute_result",
          "data": {
            "text/plain": [
              "True"
            ]
          },
          "metadata": {
            "tags": []
          },
          "execution_count": 2
        }
      ]
    },
    {
      "cell_type": "markdown",
      "metadata": {
        "id": "LvEJPlGNwDak"
      },
      "source": [
        "# **Coursera Reviews**"
      ]
    },
    {
      "cell_type": "markdown",
      "metadata": {
        "id": "ZltEzecPuYy5"
      },
      "source": [
        "Dataset found on kaggle: https://www.kaggle.com/septa97/100k-courseras-course-reviews-dataset\n",
        "\n",
        "Reviews from students on courses offered by Coursera. The csv file has the text for the reviews along with the corresponding 1 to 5 rating of the course. There is a little over 100,000 reviews contained within the file.\n"
      ]
    },
    {
      "cell_type": "code",
      "metadata": {
        "colab": {
          "base_uri": "https://localhost:8080/",
          "height": 410
        },
        "id": "SfZ7rdxMMiwt",
        "outputId": "66be7200-2c88-4fc0-e87d-1483a583bc5e"
      },
      "source": [
        "pd.set_option('display.max_colwidth', -1)\n",
        "\n",
        "# The /content/drive/MyDrive/reviews.csv is if you are using google colab and\n",
        "# mounted your google drive. I will provide the csv file along with the code\n",
        "# so you may not need this.\n",
        "# review_data = pd.read_csv('/content/drive/MyDrive/reviews.csv')\n",
        "\n",
        "review_data = pd.read_csv('reviews.csv')\n",
        "review_data.shape, display(review_data.head(10))"
      ],
      "execution_count": null,
      "outputs": [
        {
          "output_type": "display_data",
          "data": {
            "text/html": [
              "<div>\n",
              "<style scoped>\n",
              "    .dataframe tbody tr th:only-of-type {\n",
              "        vertical-align: middle;\n",
              "    }\n",
              "\n",
              "    .dataframe tbody tr th {\n",
              "        vertical-align: top;\n",
              "    }\n",
              "\n",
              "    .dataframe thead th {\n",
              "        text-align: right;\n",
              "    }\n",
              "</style>\n",
              "<table border=\"1\" class=\"dataframe\">\n",
              "  <thead>\n",
              "    <tr style=\"text-align: right;\">\n",
              "      <th></th>\n",
              "      <th>Id</th>\n",
              "      <th>Review</th>\n",
              "      <th>Label</th>\n",
              "    </tr>\n",
              "  </thead>\n",
              "  <tbody>\n",
              "    <tr>\n",
              "      <th>0</th>\n",
              "      <td>0</td>\n",
              "      <td>good and interesting</td>\n",
              "      <td>5</td>\n",
              "    </tr>\n",
              "    <tr>\n",
              "      <th>1</th>\n",
              "      <td>1</td>\n",
              "      <td>This class is very helpful to me. Currently, I'm still learning this class which makes up a lot of basic music knowledge.</td>\n",
              "      <td>5</td>\n",
              "    </tr>\n",
              "    <tr>\n",
              "      <th>2</th>\n",
              "      <td>2</td>\n",
              "      <td>like!Prof and TAs are helpful and the discussion among students are quite active. Very rewarding learning experience!</td>\n",
              "      <td>5</td>\n",
              "    </tr>\n",
              "    <tr>\n",
              "      <th>3</th>\n",
              "      <td>3</td>\n",
              "      <td>Easy to follow and includes a lot basic and important techniques to use sketchup.</td>\n",
              "      <td>5</td>\n",
              "    </tr>\n",
              "    <tr>\n",
              "      <th>4</th>\n",
              "      <td>4</td>\n",
              "      <td>Really nice teacher!I could got the point eazliy but the v</td>\n",
              "      <td>4</td>\n",
              "    </tr>\n",
              "    <tr>\n",
              "      <th>5</th>\n",
              "      <td>5</td>\n",
              "      <td>Great course - I recommend it for all, especially IT and Business Managers!</td>\n",
              "      <td>5</td>\n",
              "    </tr>\n",
              "    <tr>\n",
              "      <th>6</th>\n",
              "      <td>6</td>\n",
              "      <td>One of the most useful course on IT Management!</td>\n",
              "      <td>5</td>\n",
              "    </tr>\n",
              "    <tr>\n",
              "      <th>7</th>\n",
              "      <td>7</td>\n",
              "      <td>I was disappointed because the name is misleading. The course provides a good introduction &amp; overview of the responsibilities of the CTO, but has very little specifically digital content. It deals with two-speed IT in a single short lecture, so of course the treatment is superficial. It is easy to find more in-depth material freely available, on the McKinsey website for example.</td>\n",
              "      <td>3</td>\n",
              "    </tr>\n",
              "    <tr>\n",
              "      <th>8</th>\n",
              "      <td>8</td>\n",
              "      <td>Super content. I'll definitely re-do the course</td>\n",
              "      <td>5</td>\n",
              "    </tr>\n",
              "    <tr>\n",
              "      <th>9</th>\n",
              "      <td>9</td>\n",
              "      <td>One of the excellent courses at Coursera for information technology bosses and managers.</td>\n",
              "      <td>5</td>\n",
              "    </tr>\n",
              "  </tbody>\n",
              "</table>\n",
              "</div>"
            ],
            "text/plain": [
              "   Id  ... Label\n",
              "0  0   ...  5   \n",
              "1  1   ...  5   \n",
              "2  2   ...  5   \n",
              "3  3   ...  5   \n",
              "4  4   ...  4   \n",
              "5  5   ...  5   \n",
              "6  6   ...  5   \n",
              "7  7   ...  3   \n",
              "8  8   ...  5   \n",
              "9  9   ...  5   \n",
              "\n",
              "[10 rows x 3 columns]"
            ]
          },
          "metadata": {
            "tags": []
          }
        },
        {
          "output_type": "execute_result",
          "data": {
            "text/plain": [
              "((107018, 3), None)"
            ]
          },
          "metadata": {
            "tags": []
          },
          "execution_count": 3
        }
      ]
    },
    {
      "cell_type": "code",
      "metadata": {
        "id": "BsdoVV5pJlbS",
        "colab": {
          "base_uri": "https://localhost:8080/"
        },
        "outputId": "dea2587b-1efe-4cb4-bcf5-d6f6d47ad3b2"
      },
      "source": [
        "# check for empty cells\n",
        "review_data.isnull().sum()"
      ],
      "execution_count": null,
      "outputs": [
        {
          "output_type": "execute_result",
          "data": {
            "text/plain": [
              "Id        0\n",
              "Review    0\n",
              "Label     0\n",
              "dtype: int64"
            ]
          },
          "metadata": {
            "tags": []
          },
          "execution_count": 4
        }
      ]
    },
    {
      "cell_type": "code",
      "metadata": {
        "id": "0ObM_07VJrns",
        "colab": {
          "base_uri": "https://localhost:8080/"
        },
        "outputId": "39df450f-8d56-4231-fb56-0b707a3f0750"
      },
      "source": [
        "# no duplicates\n",
        "review_data = review_data.drop_duplicates(keep=\"first\")\n",
        "review_data.shape"
      ],
      "execution_count": null,
      "outputs": [
        {
          "output_type": "execute_result",
          "data": {
            "text/plain": [
              "(107018, 3)"
            ]
          },
          "metadata": {
            "tags": []
          },
          "execution_count": 5
        }
      ]
    },
    {
      "cell_type": "code",
      "metadata": {
        "colab": {
          "base_uri": "https://localhost:8080/"
        },
        "id": "QVHtCAeSJ_mP",
        "outputId": "4efe1272-5f30-49b3-bc49-d68888de46f0"
      },
      "source": [
        "# class distribution\n",
        "review_data.Label.value_counts()"
      ],
      "execution_count": null,
      "outputs": [
        {
          "output_type": "execute_result",
          "data": {
            "text/plain": [
              "5    79173\n",
              "4    18054\n",
              "3    5071 \n",
              "1    2469 \n",
              "2    2251 \n",
              "Name: Label, dtype: int64"
            ]
          },
          "metadata": {
            "tags": []
          },
          "execution_count": 6
        }
      ]
    },
    {
      "cell_type": "markdown",
      "metadata": {
        "id": "zrpf5t8Ucl3k"
      },
      "source": [
        "# **Text Preprocessing**"
      ]
    },
    {
      "cell_type": "code",
      "metadata": {
        "id": "VU_2hSBEMrXo",
        "colab": {
          "base_uri": "https://localhost:8080/"
        },
        "outputId": "74e1350c-8908-45a4-a6ea-b151fae91bb2"
      },
      "source": [
        "def decontracted(phrase):\n",
        "\n",
        "    phrase = re.sub(r\"won't\", \"will not\", phrase)\n",
        "    phrase = re.sub(r\"can\\'t\", \"can not\", phrase)\n",
        "    phrase = re.sub(r\"n\\'t\", \" not\", phrase)\n",
        "    phrase = re.sub(r\"\\'re\", \" are\", phrase)\n",
        "    phrase = re.sub(r\"\\'s\", \" is\", phrase) \n",
        "    phrase = re.sub(r\"\\'d\", \" would\", phrase)\n",
        "    phrase = re.sub(r\"\\'ll\", \" will\", phrase)\n",
        "    phrase = re.sub(r\"\\'t\", \" not\", phrase)\n",
        "    phrase = re.sub(r\"\\'ve\", \" have\", phrase)\n",
        "    phrase = re.sub(r\"\\'m\", \" am\", phrase)\n",
        "    \n",
        "    return phrase\n",
        "\n",
        "def clean_text(df):\n",
        "    cleaned_review = []\n",
        "\n",
        "    for review_text in tqdm(df['Review']):\n",
        "        \n",
        "        review_text = decontracted(review_text)     \n",
        "        review_text = BeautifulSoup(review_text, 'lxml').get_text().strip()\n",
        "        review_text = re.sub(\"[^a-zA-Z]\",\" \", review_text)\n",
        "        review_text = re.sub(r'https?://\\S+|www\\.\\S+', '', review_text)\n",
        "        review_text = review_text.translate(str.maketrans('', '', string.punctuation))\n",
        "        review_text = re.sub(r\"(^[a-zA-Z0-9_.+-]+@[a-zA-Z0-9-]+\\.[a-zA-Z0-9-.]+$)\", '', review_text)\n",
        "        review_text = review_text.lower()\n",
        "        cleaned_review.append(review_text)\n",
        "\n",
        "    return cleaned_review\n",
        "\n",
        "review_data['cleaned_review'] = clean_text(review_data)"
      ],
      "execution_count": null,
      "outputs": [
        {
          "output_type": "stream",
          "text": [
            "100%|██████████| 107018/107018 [00:27<00:00, 3831.39it/s]\n"
          ],
          "name": "stderr"
        }
      ]
    },
    {
      "cell_type": "code",
      "metadata": {
        "colab": {
          "base_uri": "https://localhost:8080/",
          "height": 255
        },
        "id": "Ijuf5bSTSXhi",
        "outputId": "a251c4e8-1135-4fff-a93f-359cd916e4c4"
      },
      "source": [
        "# Showing original review versus the cleaned review\n",
        "review_data.head()"
      ],
      "execution_count": null,
      "outputs": [
        {
          "output_type": "execute_result",
          "data": {
            "text/html": [
              "<div>\n",
              "<style scoped>\n",
              "    .dataframe tbody tr th:only-of-type {\n",
              "        vertical-align: middle;\n",
              "    }\n",
              "\n",
              "    .dataframe tbody tr th {\n",
              "        vertical-align: top;\n",
              "    }\n",
              "\n",
              "    .dataframe thead th {\n",
              "        text-align: right;\n",
              "    }\n",
              "</style>\n",
              "<table border=\"1\" class=\"dataframe\">\n",
              "  <thead>\n",
              "    <tr style=\"text-align: right;\">\n",
              "      <th></th>\n",
              "      <th>Id</th>\n",
              "      <th>Review</th>\n",
              "      <th>Label</th>\n",
              "      <th>cleaned_review</th>\n",
              "    </tr>\n",
              "  </thead>\n",
              "  <tbody>\n",
              "    <tr>\n",
              "      <th>0</th>\n",
              "      <td>0</td>\n",
              "      <td>good and interesting</td>\n",
              "      <td>5</td>\n",
              "      <td>good and interesting</td>\n",
              "    </tr>\n",
              "    <tr>\n",
              "      <th>1</th>\n",
              "      <td>1</td>\n",
              "      <td>This class is very helpful to me. Currently, I'm still learning this class which makes up a lot of basic music knowledge.</td>\n",
              "      <td>5</td>\n",
              "      <td>this class is very helpful to me  currently  i am still learning this class which makes up a lot of basic music knowledge</td>\n",
              "    </tr>\n",
              "    <tr>\n",
              "      <th>2</th>\n",
              "      <td>2</td>\n",
              "      <td>like!Prof and TAs are helpful and the discussion among students are quite active. Very rewarding learning experience!</td>\n",
              "      <td>5</td>\n",
              "      <td>like prof and tas are helpful and the discussion among students are quite active  very rewarding learning experience</td>\n",
              "    </tr>\n",
              "    <tr>\n",
              "      <th>3</th>\n",
              "      <td>3</td>\n",
              "      <td>Easy to follow and includes a lot basic and important techniques to use sketchup.</td>\n",
              "      <td>5</td>\n",
              "      <td>easy to follow and includes a lot basic and important techniques to use sketchup</td>\n",
              "    </tr>\n",
              "    <tr>\n",
              "      <th>4</th>\n",
              "      <td>4</td>\n",
              "      <td>Really nice teacher!I could got the point eazliy but the v</td>\n",
              "      <td>4</td>\n",
              "      <td>really nice teacher i could got the point eazliy but the v</td>\n",
              "    </tr>\n",
              "  </tbody>\n",
              "</table>\n",
              "</div>"
            ],
            "text/plain": [
              "   Id  ...                                                                                                              cleaned_review\n",
              "0  0   ...  good and interesting                                                                                                      \n",
              "1  1   ...  this class is very helpful to me  currently  i am still learning this class which makes up a lot of basic music knowledge \n",
              "2  2   ...  like prof and tas are helpful and the discussion among students are quite active  very rewarding learning experience      \n",
              "3  3   ...  easy to follow and includes a lot basic and important techniques to use sketchup                                          \n",
              "4  4   ...  really nice teacher i could got the point eazliy but the v                                                                \n",
              "\n",
              "[5 rows x 4 columns]"
            ]
          },
          "metadata": {
            "tags": []
          },
          "execution_count": 8
        }
      ]
    },
    {
      "cell_type": "code",
      "metadata": {
        "id": "51koeykY51Qn"
      },
      "source": [
        "# Takes around 20 seconds\n",
        "tokenized_reviews = [word_tokenize(i) for i in review_data['cleaned_review']]"
      ],
      "execution_count": null,
      "outputs": []
    },
    {
      "cell_type": "code",
      "metadata": {
        "id": "nXPXpXPLTuxn"
      },
      "source": [
        "tokenized_words = []\n",
        "for reviews in tokenized_reviews:\n",
        "  for word in reviews:\n",
        "    tokenized_words.append(word.lower())"
      ],
      "execution_count": null,
      "outputs": []
    },
    {
      "cell_type": "code",
      "metadata": {
        "id": "qzcdDUBu3l1k"
      },
      "source": [
        "# Takes around 150 seconds\n",
        "vocab = []\n",
        "for words in tokenized_reviews:\n",
        "  if words not in vocab:\n",
        "    vocab.append(words)"
      ],
      "execution_count": null,
      "outputs": []
    },
    {
      "cell_type": "markdown",
      "metadata": {
        "id": "FumnZCaMwdq8"
      },
      "source": [
        "# **Basic Analysis**"
      ]
    },
    {
      "cell_type": "code",
      "metadata": {
        "colab": {
          "base_uri": "https://localhost:8080/",
          "height": 80
        },
        "id": "r5yWdX9HA5Hs",
        "outputId": "43d79314-ebd6-4090-bb6c-176152ce3b79"
      },
      "source": [
        "review_data_info = []\n",
        "\n",
        "text = review_data['cleaned_review']\n",
        "n_tokens = len(tokenized_words)\n",
        "n_reviews = len(tokenized_reviews)\n",
        "n_types = len(vocab)\n",
        "\n",
        "review_data_info.append({\n",
        "    'Tokens': n_tokens,\n",
        "    'Vocab': n_types,\n",
        "    'Lexical Diversity': \"%.3f\" % (n_types/n_tokens),\n",
        "    'Average Review Length': \"%.3f\" % (n_tokens/n_reviews),\n",
        "    'Average Word Frequency': \"%.3f\" % (n_tokens/n_types)\n",
        "})\n",
        "\n",
        "display(pd.DataFrame(review_data_info)[['Tokens', 'Vocab', 'Lexical Diversity', 'Average Review Length', 'Average Word Frequency' ]])"
      ],
      "execution_count": null,
      "outputs": [
        {
          "output_type": "display_data",
          "data": {
            "text/html": [
              "<div>\n",
              "<style scoped>\n",
              "    .dataframe tbody tr th:only-of-type {\n",
              "        vertical-align: middle;\n",
              "    }\n",
              "\n",
              "    .dataframe tbody tr th {\n",
              "        vertical-align: top;\n",
              "    }\n",
              "\n",
              "    .dataframe thead th {\n",
              "        text-align: right;\n",
              "    }\n",
              "</style>\n",
              "<table border=\"1\" class=\"dataframe\">\n",
              "  <thead>\n",
              "    <tr style=\"text-align: right;\">\n",
              "      <th></th>\n",
              "      <th>Tokens</th>\n",
              "      <th>Vocab</th>\n",
              "      <th>Lexical Diversity</th>\n",
              "      <th>Average Review Length</th>\n",
              "      <th>Average Word Frequency</th>\n",
              "    </tr>\n",
              "  </thead>\n",
              "  <tbody>\n",
              "    <tr>\n",
              "      <th>0</th>\n",
              "      <td>2698633</td>\n",
              "      <td>96968</td>\n",
              "      <td>0.036</td>\n",
              "      <td>25.217</td>\n",
              "      <td>27.830</td>\n",
              "    </tr>\n",
              "  </tbody>\n",
              "</table>\n",
              "</div>"
            ],
            "text/plain": [
              "    Tokens  Vocab  ... Average Review Length Average Word Frequency\n",
              "0  2698633  96968  ...  25.217                27.830               \n",
              "\n",
              "[1 rows x 5 columns]"
            ]
          },
          "metadata": {
            "tags": []
          }
        }
      ]
    },
    {
      "cell_type": "markdown",
      "metadata": {
        "id": "0kbmkWAv1ZXv"
      },
      "source": [
        "# **Converting Ratings to Binary Labels**"
      ]
    },
    {
      "cell_type": "code",
      "metadata": {
        "id": "oktQrR3rEcBC",
        "colab": {
          "base_uri": "https://localhost:8080/",
          "height": 393
        },
        "outputId": "e7cfa0e2-73e9-48fb-9070-84cf69d9ffab"
      },
      "source": [
        "review_data['tf'] = review_data['Label'].map({5:1, 4:1, 3:0, 2:0, 1:0})\n",
        "review_data.head(10)[['cleaned_review', 'Label', 'tf']]"
      ],
      "execution_count": null,
      "outputs": [
        {
          "output_type": "execute_result",
          "data": {
            "text/html": [
              "<div>\n",
              "<style scoped>\n",
              "    .dataframe tbody tr th:only-of-type {\n",
              "        vertical-align: middle;\n",
              "    }\n",
              "\n",
              "    .dataframe tbody tr th {\n",
              "        vertical-align: top;\n",
              "    }\n",
              "\n",
              "    .dataframe thead th {\n",
              "        text-align: right;\n",
              "    }\n",
              "</style>\n",
              "<table border=\"1\" class=\"dataframe\">\n",
              "  <thead>\n",
              "    <tr style=\"text-align: right;\">\n",
              "      <th></th>\n",
              "      <th>cleaned_review</th>\n",
              "      <th>Label</th>\n",
              "      <th>tf</th>\n",
              "    </tr>\n",
              "  </thead>\n",
              "  <tbody>\n",
              "    <tr>\n",
              "      <th>0</th>\n",
              "      <td>good and interesting</td>\n",
              "      <td>5</td>\n",
              "      <td>1</td>\n",
              "    </tr>\n",
              "    <tr>\n",
              "      <th>1</th>\n",
              "      <td>this class is very helpful to me  currently  i am still learning this class which makes up a lot of basic music knowledge</td>\n",
              "      <td>5</td>\n",
              "      <td>1</td>\n",
              "    </tr>\n",
              "    <tr>\n",
              "      <th>2</th>\n",
              "      <td>like prof and tas are helpful and the discussion among students are quite active  very rewarding learning experience</td>\n",
              "      <td>5</td>\n",
              "      <td>1</td>\n",
              "    </tr>\n",
              "    <tr>\n",
              "      <th>3</th>\n",
              "      <td>easy to follow and includes a lot basic and important techniques to use sketchup</td>\n",
              "      <td>5</td>\n",
              "      <td>1</td>\n",
              "    </tr>\n",
              "    <tr>\n",
              "      <th>4</th>\n",
              "      <td>really nice teacher i could got the point eazliy but the v</td>\n",
              "      <td>4</td>\n",
              "      <td>1</td>\n",
              "    </tr>\n",
              "    <tr>\n",
              "      <th>5</th>\n",
              "      <td>great course   i recommend it for all  especially it and business managers</td>\n",
              "      <td>5</td>\n",
              "      <td>1</td>\n",
              "    </tr>\n",
              "    <tr>\n",
              "      <th>6</th>\n",
              "      <td>one of the most useful course on it management</td>\n",
              "      <td>5</td>\n",
              "      <td>1</td>\n",
              "    </tr>\n",
              "    <tr>\n",
              "      <th>7</th>\n",
              "      <td>i was disappointed because the name is misleading  the course provides a good introduction   overview of the responsibilities of the cto  but has very little specifically digital content  it deals with two speed it in a single short lecture  so of course the treatment is superficial  it is easy to find more in depth material freely available  on the mckinsey website for example</td>\n",
              "      <td>3</td>\n",
              "      <td>0</td>\n",
              "    </tr>\n",
              "    <tr>\n",
              "      <th>8</th>\n",
              "      <td>super content  i will definitely re do the course</td>\n",
              "      <td>5</td>\n",
              "      <td>1</td>\n",
              "    </tr>\n",
              "    <tr>\n",
              "      <th>9</th>\n",
              "      <td>one of the excellent courses at coursera for information technology bosses and managers</td>\n",
              "      <td>5</td>\n",
              "      <td>1</td>\n",
              "    </tr>\n",
              "  </tbody>\n",
              "</table>\n",
              "</div>"
            ],
            "text/plain": [
              "                                                                                                                                                                                                                                                                                                                                                                                  cleaned_review  ...  tf\n",
              "0  good and interesting                                                                                                                                                                                                                                                                                                                                                                           ...  1 \n",
              "1  this class is very helpful to me  currently  i am still learning this class which makes up a lot of basic music knowledge                                                                                                                                                                                                                                                                      ...  1 \n",
              "2  like prof and tas are helpful and the discussion among students are quite active  very rewarding learning experience                                                                                                                                                                                                                                                                           ...  1 \n",
              "3  easy to follow and includes a lot basic and important techniques to use sketchup                                                                                                                                                                                                                                                                                                               ...  1 \n",
              "4  really nice teacher i could got the point eazliy but the v                                                                                                                                                                                                                                                                                                                                     ...  1 \n",
              "5  great course   i recommend it for all  especially it and business managers                                                                                                                                                                                                                                                                                                                     ...  1 \n",
              "6  one of the most useful course on it management                                                                                                                                                                                                                                                                                                                                                 ...  1 \n",
              "7  i was disappointed because the name is misleading  the course provides a good introduction   overview of the responsibilities of the cto  but has very little specifically digital content  it deals with two speed it in a single short lecture  so of course the treatment is superficial  it is easy to find more in depth material freely available  on the mckinsey website for example   ...  0 \n",
              "8  super content  i will definitely re do the course                                                                                                                                                                                                                                                                                                                                              ...  1 \n",
              "9  one of the excellent courses at coursera for information technology bosses and managers                                                                                                                                                                                                                                                                                                        ...  1 \n",
              "\n",
              "[10 rows x 3 columns]"
            ]
          },
          "metadata": {
            "tags": []
          },
          "execution_count": 13
        }
      ]
    },
    {
      "cell_type": "markdown",
      "metadata": {
        "id": "7WH6IHhueRU6"
      },
      "source": [
        "# **Count Vectorizer**"
      ]
    },
    {
      "cell_type": "code",
      "metadata": {
        "id": "sTnEJh07M6g_"
      },
      "source": [
        "stopwords = set(['i', 'me', 'my', 'myself', 'we', 'our', 'ours', 'ourselves', 'you', 'your', 'yours', 'yourself',\\\n",
        "                 'yourselves', 'he', 'him', 'his', 'himself', 'she', 'her', 'hers', 'herself', 'it', 'its', 'itself',\\\n",
        "                 'they', 'them', 'their', 'theirs', 'themselves', 'what', 'which', 'who', 'whom', 'this', 'that', 'these',\\\n",
        "                 'those', 'am', 'is', 'are', 'was', 'were', 'been', 'being', 'have', 'has', 'had', 'having', 'do', 'does', 'did',\\\n",
        "                 'doing', 'a', 'an', 'the', 'and', 'but', 'if', 'or', 'because', 'as', 'until', 'while', 'of', 'at', 'by', 'for', 'with',\\\n",
        "                 'about', 'against', 'between', 'into', 'through', 'during', 'before', 'after', 'above', 'below', 'to', 'from', 'up', 'down',\\\n",
        "                 'in', 'out', 'on', 'off', 'over', 'under', 'again', 'further', 'then', 'once', 'here', 'there', 'when', 'where', 'why',\\\n",
        "                 'how', 'all', 'any', 'both', 'each', 'few', 'more', 'most', 'other', 'such', 'only', 'own', 'no', 'same',\\\n",
        "                 'so', 'than', 'too', 'very', 's', 'can', 'will', 'just', 'don', 'should', 'now', 'be', 'some', 'much', 'would', 'could'])"
      ],
      "execution_count": null,
      "outputs": []
    },
    {
      "cell_type": "code",
      "metadata": {
        "colab": {
          "base_uri": "https://localhost:8080/"
        },
        "id": "FBjkLN2T08G5",
        "outputId": "66643615-875a-4b42-fb06-4c597cf18cfd"
      },
      "source": [
        "# max_df -> not allowing words that appear more than 70% in the document\n",
        "# min_df -> not allowing words that appear less than 0.1% in the document\n",
        "# ngram_range -> both unigrams and bigrams\n",
        "vectorizer = CountVectorizer(lowercase=True, stop_words=stopwords, max_df=0.7, min_df=0.001, ngram_range=(1,2))\n",
        "X = vectorizer.fit_transform(review_data.cleaned_review)\n",
        "y = review_data.tf.values\n",
        "\n",
        "print(X.toarray())\n",
        "\n",
        "print(X.shape)\n",
        "print(y.shape)"
      ],
      "execution_count": null,
      "outputs": [
        {
          "output_type": "stream",
          "text": [
            "[[0 0 0 ... 0 0 0]\n",
            " [0 0 0 ... 0 0 0]\n",
            " [0 0 0 ... 0 0 0]\n",
            " ...\n",
            " [0 0 0 ... 0 0 0]\n",
            " [0 0 0 ... 0 0 0]\n",
            " [0 0 0 ... 0 0 0]]\n",
            "(107018, 2139)\n",
            "(107018,)\n"
          ],
          "name": "stdout"
        }
      ]
    },
    {
      "cell_type": "markdown",
      "metadata": {
        "id": "2vpO5UEZdjfV"
      },
      "source": [
        "# **Train Test Split**"
      ]
    },
    {
      "cell_type": "code",
      "metadata": {
        "colab": {
          "base_uri": "https://localhost:8080/",
          "height": 306
        },
        "id": "Bc6Q3hsKb0NR",
        "outputId": "08b6a7da-3e65-4258-945a-3115eed6fa02"
      },
      "source": [
        "review_data_redix = review_data.reset_index(drop=True)\n",
        "review_data_redix.tail()"
      ],
      "execution_count": null,
      "outputs": [
        {
          "output_type": "execute_result",
          "data": {
            "text/html": [
              "<div>\n",
              "<style scoped>\n",
              "    .dataframe tbody tr th:only-of-type {\n",
              "        vertical-align: middle;\n",
              "    }\n",
              "\n",
              "    .dataframe tbody tr th {\n",
              "        vertical-align: top;\n",
              "    }\n",
              "\n",
              "    .dataframe thead th {\n",
              "        text-align: right;\n",
              "    }\n",
              "</style>\n",
              "<table border=\"1\" class=\"dataframe\">\n",
              "  <thead>\n",
              "    <tr style=\"text-align: right;\">\n",
              "      <th></th>\n",
              "      <th>Id</th>\n",
              "      <th>Review</th>\n",
              "      <th>Label</th>\n",
              "      <th>cleaned_review</th>\n",
              "      <th>tf</th>\n",
              "    </tr>\n",
              "  </thead>\n",
              "  <tbody>\n",
              "    <tr>\n",
              "      <th>107013</th>\n",
              "      <td>107013</td>\n",
              "      <td>Trendy topic with talks from expertises in the field. Covered all areas of interest. Congrats!</td>\n",
              "      <td>4</td>\n",
              "      <td>trendy topic with talks from expertises in the field  covered all areas of interest  congrats</td>\n",
              "      <td>1</td>\n",
              "    </tr>\n",
              "    <tr>\n",
              "      <th>107014</th>\n",
              "      <td>107014</td>\n",
              "      <td>Wonderful! Simple and clear language, good instructors, great stuff! Highly recommend!</td>\n",
              "      <td>5</td>\n",
              "      <td>wonderful  simple and clear language  good instructors  great stuff  highly recommend</td>\n",
              "      <td>1</td>\n",
              "    </tr>\n",
              "    <tr>\n",
              "      <th>107015</th>\n",
              "      <td>107015</td>\n",
              "      <td>an interesting and fun course. thanks. dr quincy</td>\n",
              "      <td>5</td>\n",
              "      <td>an interesting and fun course  thanks  dr quincy</td>\n",
              "      <td>1</td>\n",
              "    </tr>\n",
              "    <tr>\n",
              "      <th>107016</th>\n",
              "      <td>107016</td>\n",
              "      <td>very broad perspective, up to date information, useful links and videos and good lecturers in general. Thank you for the insights and knowledge.</td>\n",
              "      <td>4</td>\n",
              "      <td>very broad perspective  up to date information  useful links and videos and good lecturers in general  thank you for the insights and knowledge</td>\n",
              "      <td>1</td>\n",
              "    </tr>\n",
              "    <tr>\n",
              "      <th>107017</th>\n",
              "      <td>107017</td>\n",
              "      <td>An informative course on the social and financial implications due to Zika as well as the factors leading to an epidemic of Zika virus,,</td>\n",
              "      <td>4</td>\n",
              "      <td>an informative course on the social and financial implications due to zika as well as the factors leading to an epidemic of zika virus</td>\n",
              "      <td>1</td>\n",
              "    </tr>\n",
              "  </tbody>\n",
              "</table>\n",
              "</div>"
            ],
            "text/plain": [
              "            Id  ... tf\n",
              "107013  107013  ...  1\n",
              "107014  107014  ...  1\n",
              "107015  107015  ...  1\n",
              "107016  107016  ...  1\n",
              "107017  107017  ...  1\n",
              "\n",
              "[5 rows x 5 columns]"
            ]
          },
          "metadata": {
            "tags": []
          },
          "execution_count": 16
        }
      ]
    },
    {
      "cell_type": "code",
      "metadata": {
        "id": "BXNfM1NG3iqN",
        "colab": {
          "base_uri": "https://localhost:8080/"
        },
        "outputId": "0f99c286-609e-4ab8-abaa-5ad5acbff862"
      },
      "source": [
        "train_idx, test_idx = train_test_split(np.arange(review_data_redix.shape[0]), test_size = 0.2, shuffle=True, random_state=42)\n",
        "\n",
        "len(train_idx), len(test_idx)\n",
        "print(\"Number of training examples:{}\".format(len(train_idx)))\n",
        "print(\"Number of testing examples:{}\".format(len(test_idx)))"
      ],
      "execution_count": null,
      "outputs": [
        {
          "output_type": "stream",
          "text": [
            "Number of training examples:85614\n",
            "Number of testing examples:21404\n"
          ],
          "name": "stdout"
        }
      ]
    },
    {
      "cell_type": "code",
      "metadata": {
        "colab": {
          "base_uri": "https://localhost:8080/"
        },
        "id": "Ss4Ny32vbO4v",
        "outputId": "1bfa7d8c-374b-4dd8-9591-546d2617c7e6"
      },
      "source": [
        "X_train = X[train_idx]\n",
        "y_train = y[train_idx]\n",
        "\n",
        "X_test = X[test_idx]\n",
        "y_test = y[test_idx]\n",
        "\n",
        "print(\"Training data: X_train : {}, y_train : {}\".format(X_train.shape, y_train.shape))\n",
        "print(\"Testing data: X_test : {}, y_test : {}\".format(X_test.shape, y_test.shape))"
      ],
      "execution_count": null,
      "outputs": [
        {
          "output_type": "stream",
          "text": [
            "Training data: X_train : (85614, 2139), y_train : (85614,)\n",
            "Testing data: X_test : (21404, 2139), y_test : (21404,)\n"
          ],
          "name": "stdout"
        }
      ]
    },
    {
      "cell_type": "code",
      "metadata": {
        "id": "TPQCT0HLao--"
      },
      "source": [
        "# Since positive and negative imbalance randomly undersample the postive class\n",
        "# to match both positive and negative classes\n",
        "undersample = RandomUnderSampler(sampling_strategy='majority')\n",
        "X_train_under, y_train_under = undersample.fit_resample(X_train, y_train)"
      ],
      "execution_count": null,
      "outputs": []
    },
    {
      "cell_type": "markdown",
      "metadata": {
        "id": "6zMD6fi3f8zK"
      },
      "source": [
        "# **Logistic Regression**"
      ]
    },
    {
      "cell_type": "code",
      "metadata": {
        "id": "DJp1eXT0cxvi"
      },
      "source": [
        "# Without undersampling\n",
        "lr_clf = LogisticRegression(max_iter=7600)\n",
        "lr_clf.fit(X_train, y_train)\n",
        "y_pred_test = lr_clf.predict(X_test)\n",
        "y_predprob_test = lr_clf.predict_proba(X_test)"
      ],
      "execution_count": null,
      "outputs": []
    },
    {
      "cell_type": "code",
      "metadata": {
        "colab": {
          "base_uri": "https://localhost:8080/"
        },
        "id": "Gnw2MVCodY5N",
        "outputId": "2c51eec5-41cb-427f-be50-8fcc855afd90"
      },
      "source": [
        "print(classification_report(y_test, y_pred_test))"
      ],
      "execution_count": null,
      "outputs": [
        {
          "output_type": "stream",
          "text": [
            "              precision    recall  f1-score   support\n",
            "\n",
            "           0       0.75      0.48      0.58      1910\n",
            "           1       0.95      0.98      0.97     19494\n",
            "\n",
            "    accuracy                           0.94     21404\n",
            "   macro avg       0.85      0.73      0.78     21404\n",
            "weighted avg       0.93      0.94      0.93     21404\n",
            "\n"
          ],
          "name": "stdout"
        }
      ]
    },
    {
      "cell_type": "code",
      "metadata": {
        "id": "ATyfARS_rTBb"
      },
      "source": [
        "# With undersampling\n",
        "lr_clf_under = LogisticRegression(max_iter=7600)\n",
        "lr_clf_under.fit(X_train_under, y_train_under)\n",
        "y_pred_test_under = lr_clf_under.predict(X_test)"
      ],
      "execution_count": null,
      "outputs": []
    },
    {
      "cell_type": "code",
      "metadata": {
        "colab": {
          "base_uri": "https://localhost:8080/"
        },
        "id": "yYE0apOFs0oL",
        "outputId": "7ea3c69d-7719-430a-91d5-62d5c918110d"
      },
      "source": [
        "print(classification_report(y_test, y_pred_test_under))"
      ],
      "execution_count": null,
      "outputs": [
        {
          "output_type": "stream",
          "text": [
            "              precision    recall  f1-score   support\n",
            "\n",
            "           0       0.38      0.85      0.53      1910\n",
            "           1       0.98      0.86      0.92     19494\n",
            "\n",
            "    accuracy                           0.86     21404\n",
            "   macro avg       0.68      0.86      0.72     21404\n",
            "weighted avg       0.93      0.86      0.89     21404\n",
            "\n"
          ],
          "name": "stdout"
        }
      ]
    },
    {
      "cell_type": "markdown",
      "metadata": {
        "id": "kZqeKixK98Up"
      },
      "source": [
        "# **Cross Validation Score**"
      ]
    },
    {
      "cell_type": "code",
      "metadata": {
        "colab": {
          "base_uri": "https://localhost:8080/"
        },
        "id": "SPoTDeW9d-1l",
        "outputId": "b3ea19ab-63fa-470c-8c44-edc175d20dad"
      },
      "source": [
        "scores = cross_val_score(lr_clf, X, y, cv=5, scoring='precision')\n",
        "print(scores)"
      ],
      "execution_count": null,
      "outputs": [
        {
          "output_type": "stream",
          "text": [
            "[0.95014295 0.94757823 0.94633907 0.94238643 0.95254815]\n"
          ],
          "name": "stdout"
        }
      ]
    },
    {
      "cell_type": "markdown",
      "metadata": {
        "id": "3lRV5Qx3-BpO"
      },
      "source": [
        "# **Parameter Tuning**"
      ]
    },
    {
      "cell_type": "code",
      "metadata": {
        "colab": {
          "base_uri": "https://localhost:8080/"
        },
        "id": "cKV1PE0owucT",
        "outputId": "c192ea20-ff66-43fb-8249-3465134386fe"
      },
      "source": [
        "# Takes around 7 minutes and 26 seconds\n",
        "vectorizer_grid = CountVectorizer(lowercase=True, stop_words=stopwords)\n",
        "logistic_grid = LogisticRegression(max_iter=7600)\n",
        "\n",
        "pipe = Pipeline(steps = [\n",
        "       ('vectorizer', vectorizer_grid),\n",
        "       ('classifier', logistic_grid)])\n",
        "\n",
        "param_grid = {\n",
        "    'vectorizer__min_df': [0.01, 0.02, 0.05, 0.1, 0.3, 0.5],\n",
        "    'vectorizer__max_df': [0.7, 0.8, 0.9],\n",
        "    'classifier__penalty': ['l2', 'none']}\n",
        "\n",
        "search_result = GridSearchCV(pipe, param_grid, cv=5, scoring='f1').fit(review_data.cleaned_review.values, review_data.tf.values)\n",
        "\n",
        "print(\"Best parameter (CV score=%0.3f):\" % search_result.best_score_)\n",
        "print(search_result.best_params_)"
      ],
      "execution_count": null,
      "outputs": [
        {
          "output_type": "stream",
          "text": [
            "Best parameter (CV score=0.958):\n",
            "{'classifier__penalty': 'l2', 'vectorizer__max_df': 0.7, 'vectorizer__min_df': 0.01}\n"
          ],
          "name": "stdout"
        }
      ]
    },
    {
      "cell_type": "markdown",
      "metadata": {
        "id": "vgdmeCwU-NKJ"
      },
      "source": [
        "# **Model Performance**"
      ]
    },
    {
      "cell_type": "code",
      "metadata": {
        "colab": {
          "base_uri": "https://localhost:8080/",
          "height": 343
        },
        "id": "8I2uuXC_Kskx",
        "outputId": "0e6649b9-2ea8-47c7-f213-7febfb32c2fb"
      },
      "source": [
        "review_data_test = review_data_redix.iloc[test_idx]\n",
        "review_data_test['pred_tf'] = y_pred_test\n",
        "review_data_test.head()[['cleaned_review', 'Label', 'tf', 'pred_tf']]"
      ],
      "execution_count": null,
      "outputs": [
        {
          "output_type": "stream",
          "text": [
            "/usr/local/lib/python3.7/dist-packages/ipykernel_launcher.py:2: SettingWithCopyWarning: \n",
            "A value is trying to be set on a copy of a slice from a DataFrame.\n",
            "Try using .loc[row_indexer,col_indexer] = value instead\n",
            "\n",
            "See the caveats in the documentation: https://pandas.pydata.org/pandas-docs/stable/user_guide/indexing.html#returning-a-view-versus-a-copy\n",
            "  \n"
          ],
          "name": "stderr"
        },
        {
          "output_type": "execute_result",
          "data": {
            "text/html": [
              "<div>\n",
              "<style scoped>\n",
              "    .dataframe tbody tr th:only-of-type {\n",
              "        vertical-align: middle;\n",
              "    }\n",
              "\n",
              "    .dataframe tbody tr th {\n",
              "        vertical-align: top;\n",
              "    }\n",
              "\n",
              "    .dataframe thead th {\n",
              "        text-align: right;\n",
              "    }\n",
              "</style>\n",
              "<table border=\"1\" class=\"dataframe\">\n",
              "  <thead>\n",
              "    <tr style=\"text-align: right;\">\n",
              "      <th></th>\n",
              "      <th>cleaned_review</th>\n",
              "      <th>Label</th>\n",
              "      <th>tf</th>\n",
              "      <th>pred_tf</th>\n",
              "    </tr>\n",
              "  </thead>\n",
              "  <tbody>\n",
              "    <tr>\n",
              "      <th>41096</th>\n",
              "      <td>good enough for beginners and the puppet is funny</td>\n",
              "      <td>4</td>\n",
              "      <td>1</td>\n",
              "      <td>1</td>\n",
              "    </tr>\n",
              "    <tr>\n",
              "      <th>32365</th>\n",
              "      <td>realy good</td>\n",
              "      <td>4</td>\n",
              "      <td>1</td>\n",
              "      <td>1</td>\n",
              "    </tr>\n",
              "    <tr>\n",
              "      <th>38781</th>\n",
              "      <td>a very comprehensive and thrilling narration  one of my best mooc on the around twenty i did</td>\n",
              "      <td>5</td>\n",
              "      <td>1</td>\n",
              "      <td>1</td>\n",
              "    </tr>\n",
              "    <tr>\n",
              "      <th>91981</th>\n",
              "      <td>i like the step by step learning  although it might be found slow for more experienced students  but it is very clear and well structured for beginners in programming and python</td>\n",
              "      <td>5</td>\n",
              "      <td>1</td>\n",
              "      <td>1</td>\n",
              "    </tr>\n",
              "    <tr>\n",
              "      <th>9679</th>\n",
              "      <td>great explanations by the course guide</td>\n",
              "      <td>5</td>\n",
              "      <td>1</td>\n",
              "      <td>1</td>\n",
              "    </tr>\n",
              "  </tbody>\n",
              "</table>\n",
              "</div>"
            ],
            "text/plain": [
              "                                                                                                                                                                           cleaned_review  ...  pred_tf\n",
              "41096  good enough for beginners and the puppet is funny                                                                                                                                   ...  1      \n",
              "32365  realy good                                                                                                                                                                          ...  1      \n",
              "38781  a very comprehensive and thrilling narration  one of my best mooc on the around twenty i did                                                                                        ...  1      \n",
              "91981  i like the step by step learning  although it might be found slow for more experienced students  but it is very clear and well structured for beginners in programming and python   ...  1      \n",
              "9679   great explanations by the course guide                                                                                                                                              ...  1      \n",
              "\n",
              "[5 rows x 4 columns]"
            ]
          },
          "metadata": {
            "tags": []
          },
          "execution_count": 26
        }
      ]
    },
    {
      "cell_type": "code",
      "metadata": {
        "colab": {
          "base_uri": "https://localhost:8080/",
          "height": 221
        },
        "id": "2qoJJrcXa85P",
        "outputId": "c78df917-9469-4faf-fa22-e69d0194bec6"
      },
      "source": [
        "review_data_test[review_data_test['tf'] == review_data_test['pred_tf']].tail()[['cleaned_review', 'Label', 'tf', 'pred_tf']]"
      ],
      "execution_count": null,
      "outputs": [
        {
          "output_type": "execute_result",
          "data": {
            "text/html": [
              "<div>\n",
              "<style scoped>\n",
              "    .dataframe tbody tr th:only-of-type {\n",
              "        vertical-align: middle;\n",
              "    }\n",
              "\n",
              "    .dataframe tbody tr th {\n",
              "        vertical-align: top;\n",
              "    }\n",
              "\n",
              "    .dataframe thead th {\n",
              "        text-align: right;\n",
              "    }\n",
              "</style>\n",
              "<table border=\"1\" class=\"dataframe\">\n",
              "  <thead>\n",
              "    <tr style=\"text-align: right;\">\n",
              "      <th></th>\n",
              "      <th>cleaned_review</th>\n",
              "      <th>Label</th>\n",
              "      <th>tf</th>\n",
              "      <th>pred_tf</th>\n",
              "    </tr>\n",
              "  </thead>\n",
              "  <tbody>\n",
              "    <tr>\n",
              "      <th>87718</th>\n",
              "      <td>this covers techniques to harvest data from online sources  a common first steps in many projects</td>\n",
              "      <td>5</td>\n",
              "      <td>1</td>\n",
              "      <td>1</td>\n",
              "    </tr>\n",
              "    <tr>\n",
              "      <th>69096</th>\n",
              "      <td>the instructors are excellent and the material is good  the only drawback is the need to use graphlab  this would have been a really great course if we had to use open source software</td>\n",
              "      <td>4</td>\n",
              "      <td>1</td>\n",
              "      <td>1</td>\n",
              "    </tr>\n",
              "    <tr>\n",
              "      <th>64493</th>\n",
              "      <td>a great beginers course in the networking field  youll learn what are the basics of network</td>\n",
              "      <td>4</td>\n",
              "      <td>1</td>\n",
              "      <td>1</td>\n",
              "    </tr>\n",
              "    <tr>\n",
              "      <th>52144</th>\n",
              "      <td>i liked how every lesson built on itself and in the end  you had a full completed lesson plan</td>\n",
              "      <td>5</td>\n",
              "      <td>1</td>\n",
              "      <td>1</td>\n",
              "    </tr>\n",
              "    <tr>\n",
              "      <th>79343</th>\n",
              "      <td>very poor quality   the  teacher  is talking and talking without saying anything concrete or giving some tools or practical suggestions</td>\n",
              "      <td>1</td>\n",
              "      <td>0</td>\n",
              "      <td>0</td>\n",
              "    </tr>\n",
              "  </tbody>\n",
              "</table>\n",
              "</div>"
            ],
            "text/plain": [
              "                                                                                                                                                                                 cleaned_review  ...  pred_tf\n",
              "87718  this covers techniques to harvest data from online sources  a common first steps in many projects                                                                                         ...  1      \n",
              "69096  the instructors are excellent and the material is good  the only drawback is the need to use graphlab  this would have been a really great course if we had to use open source software   ...  1      \n",
              "64493  a great beginers course in the networking field  youll learn what are the basics of network                                                                                               ...  1      \n",
              "52144  i liked how every lesson built on itself and in the end  you had a full completed lesson plan                                                                                             ...  1      \n",
              "79343  very poor quality   the  teacher  is talking and talking without saying anything concrete or giving some tools or practical suggestions                                                   ...  0      \n",
              "\n",
              "[5 rows x 4 columns]"
            ]
          },
          "metadata": {
            "tags": []
          },
          "execution_count": 27
        }
      ]
    },
    {
      "cell_type": "code",
      "metadata": {
        "colab": {
          "base_uri": "https://localhost:8080/",
          "height": 306
        },
        "id": "LSJllJo8a-G5",
        "outputId": "cc2d3764-fd43-4419-aa43-4dd77df8fa99"
      },
      "source": [
        "review_data_test[review_data_test['tf'] != review_data_test['pred_tf']].tail()[['cleaned_review', 'Label', 'tf', 'pred_tf']]"
      ],
      "execution_count": null,
      "outputs": [
        {
          "output_type": "execute_result",
          "data": {
            "text/html": [
              "<div>\n",
              "<style scoped>\n",
              "    .dataframe tbody tr th:only-of-type {\n",
              "        vertical-align: middle;\n",
              "    }\n",
              "\n",
              "    .dataframe tbody tr th {\n",
              "        vertical-align: top;\n",
              "    }\n",
              "\n",
              "    .dataframe thead th {\n",
              "        text-align: right;\n",
              "    }\n",
              "</style>\n",
              "<table border=\"1\" class=\"dataframe\">\n",
              "  <thead>\n",
              "    <tr style=\"text-align: right;\">\n",
              "      <th></th>\n",
              "      <th>cleaned_review</th>\n",
              "      <th>Label</th>\n",
              "      <th>tf</th>\n",
              "      <th>pred_tf</th>\n",
              "    </tr>\n",
              "  </thead>\n",
              "  <tbody>\n",
              "    <tr>\n",
              "      <th>61573</th>\n",
              "      <td>the lesson is informative but the course professor does not share value on each slide  she is reading each point and does not provide additional insight</td>\n",
              "      <td>3</td>\n",
              "      <td>0</td>\n",
              "      <td>1</td>\n",
              "    </tr>\n",
              "    <tr>\n",
              "      <th>38228</th>\n",
              "      <td>material is great while separating assignment to several parts in confusing for me personally   i do not see why we need first parts when the resulting project contains all from the previous parts  this separation is justified in my mind for big projects   and these assignments were not that big</td>\n",
              "      <td>4</td>\n",
              "      <td>1</td>\n",
              "      <td>0</td>\n",
              "    </tr>\n",
              "    <tr>\n",
              "      <th>36756</th>\n",
              "      <td>assignments could have been a little tougher with more emphasis on coding</td>\n",
              "      <td>3</td>\n",
              "      <td>0</td>\n",
              "      <td>1</td>\n",
              "    </tr>\n",
              "    <tr>\n",
              "      <th>24410</th>\n",
              "      <td>it is not a recommended course  when they explain something they assume that we are expert and we know all what they are talking about  they need to have statistics experts which is not mentioned in course prerequisite                 i recommend to review the material and to review the purpose of this course</td>\n",
              "      <td>1</td>\n",
              "      <td>0</td>\n",
              "      <td>1</td>\n",
              "    </tr>\n",
              "    <tr>\n",
              "      <th>95996</th>\n",
              "      <td>this course was more diverse than i thought it would be and i really enjoyed it  however i thought the end of year project could have provided more differentiated prep material as that confused me</td>\n",
              "      <td>3</td>\n",
              "      <td>0</td>\n",
              "      <td>1</td>\n",
              "    </tr>\n",
              "  </tbody>\n",
              "</table>\n",
              "</div>"
            ],
            "text/plain": [
              "                                                                                                                                                                                                                                                                                                               cleaned_review  ...  pred_tf\n",
              "61573  the lesson is informative but the course professor does not share value on each slide  she is reading each point and does not provide additional insight                                                                                                                                                                ...  1      \n",
              "38228  material is great while separating assignment to several parts in confusing for me personally   i do not see why we need first parts when the resulting project contains all from the previous parts  this separation is justified in my mind for big projects   and these assignments were not that big                ...  0      \n",
              "36756  assignments could have been a little tougher with more emphasis on coding                                                                                                                                                                                                                                               ...  1      \n",
              "24410  it is not a recommended course  when they explain something they assume that we are expert and we know all what they are talking about  they need to have statistics experts which is not mentioned in course prerequisite                 i recommend to review the material and to review the purpose of this course  ...  1      \n",
              "95996  this course was more diverse than i thought it would be and i really enjoyed it  however i thought the end of year project could have provided more differentiated prep material as that confused me                                                                                                                    ...  1      \n",
              "\n",
              "[5 rows x 4 columns]"
            ]
          },
          "metadata": {
            "tags": []
          },
          "execution_count": 28
        }
      ]
    },
    {
      "cell_type": "code",
      "metadata": {
        "colab": {
          "base_uri": "https://localhost:8080/"
        },
        "id": "goEPd01fHsFO",
        "outputId": "a5dab8b0-8bf7-42e7-d96d-2f30268b2161"
      },
      "source": [
        "feature_to_coef = {word: float(\"%.3f\" % coef) for word, coef in zip(vectorizer.get_feature_names(), lr_clf.coef_[0])}\n",
        "\n",
        "print(\"Top positive features:\")\n",
        "sorted(feature_to_coef.items(), key=lambda x: x[1], reverse=True)[:10]"
      ],
      "execution_count": null,
      "outputs": [
        {
          "output_type": "stream",
          "text": [
            "Top positive features:\n"
          ],
          "name": "stdout"
        },
        {
          "output_type": "execute_result",
          "data": {
            "text/plain": [
              "[('awesome', 2.57),\n",
              " ('completed course', 2.538),\n",
              " ('excellent', 2.429),\n",
              " ('not difficult', 2.314),\n",
              " ('enjoying', 2.299),\n",
              " ('stimulating', 2.185),\n",
              " ('amazing', 2.094),\n",
              " ('exceptional', 2.068),\n",
              " ('fantastic', 2.057),\n",
              " ('rewarding', 2.029)]"
            ]
          },
          "metadata": {
            "tags": []
          },
          "execution_count": 29
        }
      ]
    },
    {
      "cell_type": "code",
      "metadata": {
        "colab": {
          "base_uri": "https://localhost:8080/"
        },
        "id": "69PLjr_RH1E7",
        "outputId": "92cfecba-ede6-4f13-ac75-83ebf4b86883"
      },
      "source": [
        "print(\"Top negative features:\")\n",
        "sorted(feature_to_coef.items(), key=lambda x: x[1], reverse=False)[:10]"
      ],
      "execution_count": null,
      "outputs": [
        {
          "output_type": "stream",
          "text": [
            "Top negative features:\n"
          ],
          "name": "stdout"
        },
        {
          "output_type": "execute_result",
          "data": {
            "text/plain": [
              "[('worst', -3.224),\n",
              " ('useless', -2.874),\n",
              " ('poorly', -2.794),\n",
              " ('outdated', -2.392),\n",
              " ('poor', -2.353),\n",
              " ('disappointing', -2.227),\n",
              " ('disappointed', -2.207),\n",
              " ('lacks', -2.132),\n",
              " ('not recommend', -1.996),\n",
              " ('not well', -1.96)]"
            ]
          },
          "metadata": {
            "tags": []
          },
          "execution_count": 30
        }
      ]
    },
    {
      "cell_type": "markdown",
      "metadata": {
        "id": "BSyL0pwsUpIA"
      },
      "source": [
        "# **Another Attempt for the Undersampler**"
      ]
    },
    {
      "cell_type": "code",
      "metadata": {
        "id": "_JTqo5SWUobu"
      },
      "source": [
        "# Trying another min_df\n",
        "vectorizer_new = CountVectorizer(lowercase=True, stop_words=stopwords, max_df=0.7, min_df=0.1, ngram_range=(1,2))\n",
        "X_new = vectorizer_new.fit_transform(review_data.cleaned_review)\n",
        "y_new = review_data.tf.values"
      ],
      "execution_count": null,
      "outputs": []
    },
    {
      "cell_type": "code",
      "metadata": {
        "colab": {
          "base_uri": "https://localhost:8080/"
        },
        "id": "uk4w7e4kVBf5",
        "outputId": "38e6977c-2ae0-4b7a-969d-128a4d3c771c"
      },
      "source": [
        "train_idx_new, test_idx_new = train_test_split(np.arange(review_data_redix.shape[0]), test_size = 0.2, shuffle=True, random_state=42)\n",
        "\n",
        "len(train_idx_new), len(test_idx_new)\n",
        "print(\"Number of training examples:{}\".format(len(train_idx_new)))\n",
        "print(\"Number of testing examples:{}\".format(len(test_idx_new)))"
      ],
      "execution_count": null,
      "outputs": [
        {
          "output_type": "stream",
          "text": [
            "Number of training examples:85614\n",
            "Number of testing examples:21404\n"
          ],
          "name": "stdout"
        }
      ]
    },
    {
      "cell_type": "code",
      "metadata": {
        "colab": {
          "base_uri": "https://localhost:8080/"
        },
        "id": "SaQrtATUVEfm",
        "outputId": "cbd947f0-d868-4f50-f0ad-6a8cc68247f4"
      },
      "source": [
        "X_train_new = X_new[train_idx_new]\n",
        "y_train_new = y_new[train_idx_new]\n",
        "\n",
        "X_test_new = X_new[test_idx_new]\n",
        "y_test_new = y_new[test_idx_new]\n",
        "\n",
        "print(\"Training data: X_train : {}, y_train : {}\".format(X_train_new.shape, y_train_new.shape))\n",
        "print(\"Testing data: X_test : {}, y_test : {}\".format(X_test_new.shape, y_test_new.shape))"
      ],
      "execution_count": null,
      "outputs": [
        {
          "output_type": "stream",
          "text": [
            "Training data: X_train : (85614, 5), y_train : (85614,)\n",
            "Testing data: X_test : (21404, 5), y_test : (21404,)\n"
          ],
          "name": "stdout"
        }
      ]
    },
    {
      "cell_type": "code",
      "metadata": {
        "id": "hdXAloSXVFPr"
      },
      "source": [
        "undersample_new = RandomUnderSampler(sampling_strategy='majority')\n",
        "X_train_under_new, y_train_under_new = undersample.fit_resample(X_train_new, y_train_new)"
      ],
      "execution_count": null,
      "outputs": []
    },
    {
      "cell_type": "code",
      "metadata": {
        "id": "iLETgUmeVLEV"
      },
      "source": [
        "# Without undersampling\n",
        "lr_clf_new = LogisticRegression(max_iter=7600)\n",
        "lr_clf_new.fit(X_train_new, y_train_new)\n",
        "y_pred_test_new = lr_clf_new.predict(X_test_new)"
      ],
      "execution_count": null,
      "outputs": []
    },
    {
      "cell_type": "code",
      "metadata": {
        "colab": {
          "base_uri": "https://localhost:8080/"
        },
        "id": "YH8wN5ZPVtWe",
        "outputId": "66d27aba-df0b-430a-86e0-f526e32a47a0"
      },
      "source": [
        "print(classification_report(y_test_new, y_pred_test_new))"
      ],
      "execution_count": null,
      "outputs": [
        {
          "output_type": "stream",
          "text": [
            "              precision    recall  f1-score   support\n",
            "\n",
            "           0       0.58      0.14      0.22      1910\n",
            "           1       0.92      0.99      0.95     19494\n",
            "\n",
            "    accuracy                           0.91     21404\n",
            "   macro avg       0.75      0.56      0.59     21404\n",
            "weighted avg       0.89      0.91      0.89     21404\n",
            "\n"
          ],
          "name": "stdout"
        }
      ]
    },
    {
      "cell_type": "code",
      "metadata": {
        "id": "ATK6TTWWV4Xo"
      },
      "source": [
        "# With undersampling\n",
        "lr_clf_under_new = LogisticRegression(max_iter=7600)\n",
        "lr_clf_under_new.fit(X_train_under_new, y_train_under_new)\n",
        "y_pred_test_under_new = lr_clf_under_new.predict(X_test_new)"
      ],
      "execution_count": null,
      "outputs": []
    },
    {
      "cell_type": "code",
      "metadata": {
        "colab": {
          "base_uri": "https://localhost:8080/"
        },
        "id": "YW8brcXrWJu6",
        "outputId": "425d7a05-f122-4893-8cf5-80ab30a14ce4"
      },
      "source": [
        "print(classification_report(y_test_new, y_pred_test_under_new))"
      ],
      "execution_count": null,
      "outputs": [
        {
          "output_type": "stream",
          "text": [
            "              precision    recall  f1-score   support\n",
            "\n",
            "           0       0.37      0.47      0.42      1910\n",
            "           1       0.95      0.92      0.93     19494\n",
            "\n",
            "    accuracy                           0.88     21404\n",
            "   macro avg       0.66      0.70      0.68     21404\n",
            "weighted avg       0.90      0.88      0.89     21404\n",
            "\n"
          ],
          "name": "stdout"
        }
      ]
    },
    {
      "cell_type": "markdown",
      "metadata": {
        "id": "bah1O82EQd63"
      },
      "source": [
        "# **Conclusions**"
      ]
    },
    {
      "cell_type": "markdown",
      "metadata": {
        "id": "BL9GDPZoQi_t"
      },
      "source": [
        "Some of the key highlights:\n",
        "\n",
        "1. Messing with the parameters in CountVectorizer can improve the performance greatly on its own. \n",
        "\n",
        "2. The random undersampler works by targeting the majority class, in this case the positive reviews, and randomly selecting some for the training data to match the number of negative samples.\n",
        "\n",
        "3. The performance of the random undersampler improves the recall score for the negative class greatly and the precision score for the positive class slightly. However, the other metrics are slightly worse. \n",
        "\n",
        "4. Currently the min_df is 0.001 which I take to mean no words appearing less than 0.1% of the document. making the min_df 0.1 and rerunning everything the performance with and without undersampling is different. While precision goes down slightly for the negative class both its recall and f1-score increase greatly. Another is the positive class all of its scores are still above 0.90\n",
        "\n",
        "5. In my case, just by changing the parameters of CountVectorizer seems to yield better results versus undersampling. In the first instance of the classification report with the min_df as 0.001 the scores here were better than all other instances. \n",
        "\n",
        "6. The top-n features make sense for both classes. Having ngram_range as (1, 2) allows for both unigrams and bigrams also helps. For example the words recommend and well in reference to a class usually have a positive conotation. However, both are preceded by a not which now changes how this word is used which is why its in the negative class. Otherwise the top-n words make sense on why they are associated to their respective class. \n",
        "\n",
        "7. The vocab is not as complex due to the low lexical diversity score\n",
        "\n",
        "\n"
      ]
    }
  ]
}